{
 "cells": [
  {
   "cell_type": "markdown",
   "id": "ee27548a",
   "metadata": {},
   "source": [
    "# Problem Statement\n",
    "Compare below 5 keys with 6 different dataframes to update StandardTemplate.csv and inserting in it(StandardTemplate.csv).\n",
    "\n",
    "Contents in Basement\n",
    "\n",
    "Real Property in Basement\n",
    "\n",
    "Rebuilding to Code\n",
    "\n",
    "CHUBB PERSONAL (PRIMARY) FLOOD OR\n",
    "CHUBB EXCESS FLOOD\n",
    "\n",
    "PRODUCER NAME\n",
    "\n",
    "1)Contents in Basement: present in 2.csv file only  and the  value is represented as maximum.\n",
    "\n",
    "2)Real Property in Basement : present in 2.csv file only and the value is represented as maximum.\n",
    "\n",
    "3)Rebuilding to Code  :present in 2.csv file only and the value is represented as maxium.\n",
    "\n",
    "4)CHUBB PERSONAL (PRIMARY) FLOOD OR\n",
    "CHUBB EXCESS FLOOD                  : not found in any csv file.\n",
    "\n",
    "\n",
    "5)PRODUCER NAME      : present in 3.csv file only and the value is represented as  _ KRA Insurance Agency\n",
    "\n",
    "\n",
    "\n"
   ]
  },
  {
   "cell_type": "code",
   "execution_count": 1,
   "id": "4295828b",
   "metadata": {},
   "outputs": [],
   "source": [
    "#importing Required Libraries\n",
    "import pandas as pd\n",
    "import numpy as np\n",
    "import re\n",
    "import nltk\n",
    "import warnings\n",
    "warnings.filterwarnings(\"ignore\")"
   ]
  },
  {
   "cell_type": "code",
   "execution_count": 2,
   "id": "5e6819f5",
   "metadata": {},
   "outputs": [],
   "source": [
    "#reading the all datasets \n",
    "data1 = pd.read_csv('1.csv')\n",
    "data2 = pd.read_csv('2.csv')\n",
    "data3 = pd.read_csv('3.csv')\n",
    "data4 = pd.read_csv('2.csv')\n",
    "data5 = pd.read_csv('5.csv')\n",
    "data6 = pd.read_csv('6.csv')"
   ]
  },
  {
   "cell_type": "code",
   "execution_count": 3,
   "id": "f99c12e7",
   "metadata": {},
   "outputs": [
    {
     "data": {
      "text/html": [
       "<div>\n",
       "<style scoped>\n",
       "    .dataframe tbody tr th:only-of-type {\n",
       "        vertical-align: middle;\n",
       "    }\n",
       "\n",
       "    .dataframe tbody tr th {\n",
       "        vertical-align: top;\n",
       "    }\n",
       "\n",
       "    .dataframe thead th {\n",
       "        text-align: right;\n",
       "    }\n",
       "</style>\n",
       "<table border=\"1\" class=\"dataframe\">\n",
       "  <thead>\n",
       "    <tr style=\"text-align: right;\">\n",
       "      <th></th>\n",
       "      <th>Agency Name</th>\n",
       "      <th>Legacy Chubb Agency Code</th>\n",
       "      <th>Agency Contact Info  Name</th>\n",
       "      <th>Phone</th>\n",
       "      <th>Email</th>\n",
       "      <th>Fax</th>\n",
       "      <th>Insured Name</th>\n",
       "      <th>Chubb Ltd Policy No</th>\n",
       "      <th>Street</th>\n",
       "      <th>City</th>\n",
       "      <th>...</th>\n",
       "      <th>Unnamed: 16374</th>\n",
       "      <th>Unnamed: 16375</th>\n",
       "      <th>Unnamed: 16376</th>\n",
       "      <th>Unnamed: 16377</th>\n",
       "      <th>Unnamed: 16378</th>\n",
       "      <th>Unnamed: 16379</th>\n",
       "      <th>Unnamed: 16380</th>\n",
       "      <th>Unnamed: 16381</th>\n",
       "      <th>Unnamed: 16382</th>\n",
       "      <th>Unnamed: 16383</th>\n",
       "    </tr>\n",
       "  </thead>\n",
       "  <tbody>\n",
       "  </tbody>\n",
       "</table>\n",
       "<p>0 rows × 16384 columns</p>\n",
       "</div>"
      ],
      "text/plain": [
       "Empty DataFrame\n",
       "Columns: [Agency Name, Legacy Chubb Agency Code, Agency Contact Info  Name, Phone, Email, Fax, Insured Name, Chubb Ltd Policy No, Street, City, County required, State, Zip, Deductible all peril, Dates of loss, Amounts of loss, Date of Construction, Number of Stories, Flood Zone, BFE, LFE, Additional Living Expenses ALE, Date Quote Form Submitted to WNC, Contents, Building or AA, Contents Limit, Deductible, Personal (Primary) Flood or Excess Flood, Any flood loss in past 10 years? Yes/No, Elevated? (Yes/No), If elevated, by:, Type of Building (Single-family/2-Family/Condo\\Cooperative), Foundation Information (Flood Zone/BFE/LFE), Homeowner Policy Effective Date, Requested Effective Date of Flood Policy, Building or AA Limits, Contents in Basement, Real Property in Basement, Rebuilding to Code, attachmentName, emailName, Insured Information (SIG or Premier), Unnamed: 42, CHUBB PERSONAL (PRIMARY) FLOOD, CHUBB EXCESS FLOOD, PRODUCER NAME, PRODUCER NO, CONTACT INFO, Phone.1, Fax.1, INSURED’S NAME, CHUBB POLICY NO., Street.1, City.1, County: (REQUIRED), State.1, Zip.1, Building or A&A, Contents.1, Deductible (Not applicable to excess), Prior losses, Date of Construction.1, Building or A&A.1, Contents.2, Flood Zone.1, Type of Building : Single Family, Type of Building : 2-Family, Type of Building : Condominium\\Cooperative, Number of Stories (excluding basement), Basement(Y/N), Finished, Unfinished, Enclosure, Slab on Grade, Crawl Space, Elevated (If Yes by), Piers/Posts/Columns (circle), Flood Zone.2, BFE.1, LFE.1, Date Quote Submitted to WNC, Unnamed: 81, Policy Form (House (includes a detached garage)/Condominium/Cooperative/Other permanent structure), Policy Type(New/Endorsement), Current Flood Policy , Requested Policy Effective Date, Writing Company, Producer Name, Producer Street Address, Producer City/State/Zipcode, Producer Phone Number, Producer Number, Insured’s Name, Mailing Address, City/State/Zipcode, Property Location, City/State/Zipcode.1, Corresponding Chubb Homeowners policy number, If House coverage is being requested, what is the house amount of coverage on the Chubb Homeowners Policy?, If Contents coverage is being requested, what is the contents amount of coverage on the Chubb Homeowners Policy?, ...]\n",
       "Index: []\n",
       "\n",
       "[0 rows x 16384 columns]"
      ]
     },
     "execution_count": 3,
     "metadata": {},
     "output_type": "execute_result"
    }
   ],
   "source": [
    "#reading the StandardTemplate dataset\n",
    "stan_data = pd.read_csv('StandardTemplate.csv',encoding='cp1252')\n",
    "stan_data.head()"
   ]
  },
  {
   "cell_type": "code",
   "execution_count": 6,
   "id": "b0f7c047",
   "metadata": {},
   "outputs": [
    {
     "data": {
      "text/html": [
       "<div>\n",
       "<style scoped>\n",
       "    .dataframe tbody tr th:only-of-type {\n",
       "        vertical-align: middle;\n",
       "    }\n",
       "\n",
       "    .dataframe tbody tr th {\n",
       "        vertical-align: top;\n",
       "    }\n",
       "\n",
       "    .dataframe thead th {\n",
       "        text-align: right;\n",
       "    }\n",
       "</style>\n",
       "<table border=\"1\" class=\"dataframe\">\n",
       "  <thead>\n",
       "    <tr style=\"text-align: right;\">\n",
       "      <th></th>\n",
       "      <th>Unnamed: 0</th>\n",
       "      <th>level</th>\n",
       "      <th>page_num</th>\n",
       "      <th>block_num</th>\n",
       "      <th>par_num</th>\n",
       "      <th>line_num</th>\n",
       "      <th>word_num</th>\n",
       "      <th>left</th>\n",
       "      <th>top</th>\n",
       "      <th>width</th>\n",
       "      <th>height</th>\n",
       "      <th>conf</th>\n",
       "      <th>text</th>\n",
       "      <th>required_col</th>\n",
       "      <th>new_col</th>\n",
       "    </tr>\n",
       "  </thead>\n",
       "  <tbody>\n",
       "    <tr>\n",
       "      <th>0</th>\n",
       "      <td>0</td>\n",
       "      <td>5</td>\n",
       "      <td>1</td>\n",
       "      <td>1</td>\n",
       "      <td>1</td>\n",
       "      <td>1</td>\n",
       "      <td>1</td>\n",
       "      <td>160</td>\n",
       "      <td>138</td>\n",
       "      <td>354</td>\n",
       "      <td>81</td>\n",
       "      <td>96.423638</td>\n",
       "      <td>CHUBB</td>\n",
       "      <td>block_1,line_1,word_ 1</td>\n",
       "      <td>CHUBB QUICK FLOOD ESTIMATE WORKSHEET (_) PERSO...</td>\n",
       "    </tr>\n",
       "    <tr>\n",
       "      <th>1</th>\n",
       "      <td>1</td>\n",
       "      <td>5</td>\n",
       "      <td>1</td>\n",
       "      <td>1</td>\n",
       "      <td>1</td>\n",
       "      <td>1</td>\n",
       "      <td>2</td>\n",
       "      <td>560</td>\n",
       "      <td>138</td>\n",
       "      <td>325</td>\n",
       "      <td>94</td>\n",
       "      <td>96.096090</td>\n",
       "      <td>QUICK</td>\n",
       "      <td>block_1,line_1,word_ 2</td>\n",
       "      <td>CHUBB QUICK FLOOD ESTIMATE WORKSHEET (_) PERSO...</td>\n",
       "    </tr>\n",
       "  </tbody>\n",
       "</table>\n",
       "</div>"
      ],
      "text/plain": [
       "   Unnamed: 0  level  page_num  block_num  par_num  line_num  word_num  left  \\\n",
       "0           0      5         1          1        1         1         1   160   \n",
       "1           1      5         1          1        1         1         2   560   \n",
       "\n",
       "   top  width  height       conf   text            required_col  \\\n",
       "0  138    354      81  96.423638  CHUBB  block_1,line_1,word_ 1   \n",
       "1  138    325      94  96.096090  QUICK  block_1,line_1,word_ 2   \n",
       "\n",
       "                                             new_col  \n",
       "0  CHUBB QUICK FLOOD ESTIMATE WORKSHEET (_) PERSO...  \n",
       "1  CHUBB QUICK FLOOD ESTIMATE WORKSHEET (_) PERSO...  "
      ]
     },
     "execution_count": 6,
     "metadata": {},
     "output_type": "execute_result"
    }
   ],
   "source": [
    "#printing the top 2 records of data1\n",
    "data1.head(2)"
   ]
  },
  {
   "cell_type": "code",
   "execution_count": 7,
   "id": "66e1b915",
   "metadata": {},
   "outputs": [
    {
     "data": {
      "text/html": [
       "<div>\n",
       "<style scoped>\n",
       "    .dataframe tbody tr th:only-of-type {\n",
       "        vertical-align: middle;\n",
       "    }\n",
       "\n",
       "    .dataframe tbody tr th {\n",
       "        vertical-align: top;\n",
       "    }\n",
       "\n",
       "    .dataframe thead th {\n",
       "        text-align: right;\n",
       "    }\n",
       "</style>\n",
       "<table border=\"1\" class=\"dataframe\">\n",
       "  <thead>\n",
       "    <tr style=\"text-align: right;\">\n",
       "      <th></th>\n",
       "      <th>Unnamed: 0</th>\n",
       "      <th>level</th>\n",
       "      <th>page_num</th>\n",
       "      <th>block_num</th>\n",
       "      <th>par_num</th>\n",
       "      <th>line_num</th>\n",
       "      <th>word_num</th>\n",
       "      <th>left</th>\n",
       "      <th>top</th>\n",
       "      <th>width</th>\n",
       "      <th>height</th>\n",
       "      <th>conf</th>\n",
       "      <th>text</th>\n",
       "      <th>required_col</th>\n",
       "      <th>new_col</th>\n",
       "    </tr>\n",
       "  </thead>\n",
       "  <tbody>\n",
       "    <tr>\n",
       "      <th>0</th>\n",
       "      <td>0</td>\n",
       "      <td>5</td>\n",
       "      <td>1</td>\n",
       "      <td>1</td>\n",
       "      <td>1</td>\n",
       "      <td>1</td>\n",
       "      <td>1</td>\n",
       "      <td>160</td>\n",
       "      <td>263</td>\n",
       "      <td>355</td>\n",
       "      <td>82</td>\n",
       "      <td>96.495631</td>\n",
       "      <td>CHUBB</td>\n",
       "      <td>block_1,line_1,word_ 1</td>\n",
       "      <td>CHUBB QUICK FLOOD ESTIMATE WORKSHEET (@) PERSO...</td>\n",
       "    </tr>\n",
       "    <tr>\n",
       "      <th>1</th>\n",
       "      <td>1</td>\n",
       "      <td>5</td>\n",
       "      <td>1</td>\n",
       "      <td>1</td>\n",
       "      <td>1</td>\n",
       "      <td>1</td>\n",
       "      <td>2</td>\n",
       "      <td>561</td>\n",
       "      <td>263</td>\n",
       "      <td>325</td>\n",
       "      <td>95</td>\n",
       "      <td>95.925887</td>\n",
       "      <td>QUICK</td>\n",
       "      <td>block_1,line_1,word_ 2</td>\n",
       "      <td>CHUBB QUICK FLOOD ESTIMATE WORKSHEET (@) PERSO...</td>\n",
       "    </tr>\n",
       "  </tbody>\n",
       "</table>\n",
       "</div>"
      ],
      "text/plain": [
       "   Unnamed: 0  level  page_num  block_num  par_num  line_num  word_num  left  \\\n",
       "0           0      5         1          1        1         1         1   160   \n",
       "1           1      5         1          1        1         1         2   561   \n",
       "\n",
       "   top  width  height       conf   text            required_col  \\\n",
       "0  263    355      82  96.495631  CHUBB  block_1,line_1,word_ 1   \n",
       "1  263    325      95  95.925887  QUICK  block_1,line_1,word_ 2   \n",
       "\n",
       "                                             new_col  \n",
       "0  CHUBB QUICK FLOOD ESTIMATE WORKSHEET (@) PERSO...  \n",
       "1  CHUBB QUICK FLOOD ESTIMATE WORKSHEET (@) PERSO...  "
      ]
     },
     "execution_count": 7,
     "metadata": {},
     "output_type": "execute_result"
    }
   ],
   "source": [
    "#printing the top 2 records of data2\n",
    "data2.head(2)"
   ]
  },
  {
   "cell_type": "code",
   "execution_count": 8,
   "id": "76ab4a48",
   "metadata": {},
   "outputs": [
    {
     "data": {
      "text/html": [
       "<div>\n",
       "<style scoped>\n",
       "    .dataframe tbody tr th:only-of-type {\n",
       "        vertical-align: middle;\n",
       "    }\n",
       "\n",
       "    .dataframe tbody tr th {\n",
       "        vertical-align: top;\n",
       "    }\n",
       "\n",
       "    .dataframe thead th {\n",
       "        text-align: right;\n",
       "    }\n",
       "</style>\n",
       "<table border=\"1\" class=\"dataframe\">\n",
       "  <thead>\n",
       "    <tr style=\"text-align: right;\">\n",
       "      <th></th>\n",
       "      <th>Unnamed: 0</th>\n",
       "      <th>level</th>\n",
       "      <th>page_num</th>\n",
       "      <th>block_num</th>\n",
       "      <th>par_num</th>\n",
       "      <th>line_num</th>\n",
       "      <th>word_num</th>\n",
       "      <th>left</th>\n",
       "      <th>top</th>\n",
       "      <th>width</th>\n",
       "      <th>height</th>\n",
       "      <th>conf</th>\n",
       "      <th>text</th>\n",
       "      <th>required_col</th>\n",
       "      <th>new_col</th>\n",
       "    </tr>\n",
       "  </thead>\n",
       "  <tbody>\n",
       "    <tr>\n",
       "      <th>0</th>\n",
       "      <td>0</td>\n",
       "      <td>5</td>\n",
       "      <td>1</td>\n",
       "      <td>1</td>\n",
       "      <td>1</td>\n",
       "      <td>1</td>\n",
       "      <td>1</td>\n",
       "      <td>695</td>\n",
       "      <td>166</td>\n",
       "      <td>50</td>\n",
       "      <td>50</td>\n",
       "      <td>96.248698</td>\n",
       "      <td>A</td>\n",
       "      <td>block_1,line_1,word_ 1</td>\n",
       "      <td>A PREMIUM ESTIMATE DERIVED FROM THIS WORKSHEET...</td>\n",
       "    </tr>\n",
       "    <tr>\n",
       "      <th>1</th>\n",
       "      <td>1</td>\n",
       "      <td>5</td>\n",
       "      <td>1</td>\n",
       "      <td>1</td>\n",
       "      <td>1</td>\n",
       "      <td>1</td>\n",
       "      <td>2</td>\n",
       "      <td>769</td>\n",
       "      <td>166</td>\n",
       "      <td>318</td>\n",
       "      <td>51</td>\n",
       "      <td>96.191221</td>\n",
       "      <td>PREMIUM</td>\n",
       "      <td>block_1,line_1,word_ 2</td>\n",
       "      <td>A PREMIUM ESTIMATE DERIVED FROM THIS WORKSHEET...</td>\n",
       "    </tr>\n",
       "  </tbody>\n",
       "</table>\n",
       "</div>"
      ],
      "text/plain": [
       "   Unnamed: 0  level  page_num  block_num  par_num  line_num  word_num  left  \\\n",
       "0           0      5         1          1        1         1         1   695   \n",
       "1           1      5         1          1        1         1         2   769   \n",
       "\n",
       "   top  width  height       conf     text            required_col  \\\n",
       "0  166     50      50  96.248698        A  block_1,line_1,word_ 1   \n",
       "1  166    318      51  96.191221  PREMIUM  block_1,line_1,word_ 2   \n",
       "\n",
       "                                             new_col  \n",
       "0  A PREMIUM ESTIMATE DERIVED FROM THIS WORKSHEET...  \n",
       "1  A PREMIUM ESTIMATE DERIVED FROM THIS WORKSHEET...  "
      ]
     },
     "execution_count": 8,
     "metadata": {},
     "output_type": "execute_result"
    }
   ],
   "source": [
    "#printing the top 2 records of data3\n",
    "data3.head(2)"
   ]
  },
  {
   "cell_type": "code",
   "execution_count": 9,
   "id": "73dac909",
   "metadata": {},
   "outputs": [
    {
     "data": {
      "text/html": [
       "<div>\n",
       "<style scoped>\n",
       "    .dataframe tbody tr th:only-of-type {\n",
       "        vertical-align: middle;\n",
       "    }\n",
       "\n",
       "    .dataframe tbody tr th {\n",
       "        vertical-align: top;\n",
       "    }\n",
       "\n",
       "    .dataframe thead th {\n",
       "        text-align: right;\n",
       "    }\n",
       "</style>\n",
       "<table border=\"1\" class=\"dataframe\">\n",
       "  <thead>\n",
       "    <tr style=\"text-align: right;\">\n",
       "      <th></th>\n",
       "      <th>Unnamed: 0</th>\n",
       "      <th>level</th>\n",
       "      <th>page_num</th>\n",
       "      <th>block_num</th>\n",
       "      <th>par_num</th>\n",
       "      <th>line_num</th>\n",
       "      <th>word_num</th>\n",
       "      <th>left</th>\n",
       "      <th>top</th>\n",
       "      <th>width</th>\n",
       "      <th>height</th>\n",
       "      <th>conf</th>\n",
       "      <th>text</th>\n",
       "      <th>required_col</th>\n",
       "      <th>new_col</th>\n",
       "    </tr>\n",
       "  </thead>\n",
       "  <tbody>\n",
       "    <tr>\n",
       "      <th>0</th>\n",
       "      <td>0</td>\n",
       "      <td>5</td>\n",
       "      <td>1</td>\n",
       "      <td>1</td>\n",
       "      <td>1</td>\n",
       "      <td>1</td>\n",
       "      <td>1</td>\n",
       "      <td>160</td>\n",
       "      <td>263</td>\n",
       "      <td>355</td>\n",
       "      <td>82</td>\n",
       "      <td>96.495631</td>\n",
       "      <td>CHUBB</td>\n",
       "      <td>block_1,line_1,word_ 1</td>\n",
       "      <td>CHUBB QUICK FLOOD ESTIMATE WORKSHEET (@) PERSO...</td>\n",
       "    </tr>\n",
       "    <tr>\n",
       "      <th>1</th>\n",
       "      <td>1</td>\n",
       "      <td>5</td>\n",
       "      <td>1</td>\n",
       "      <td>1</td>\n",
       "      <td>1</td>\n",
       "      <td>1</td>\n",
       "      <td>2</td>\n",
       "      <td>561</td>\n",
       "      <td>263</td>\n",
       "      <td>325</td>\n",
       "      <td>95</td>\n",
       "      <td>95.925887</td>\n",
       "      <td>QUICK</td>\n",
       "      <td>block_1,line_1,word_ 2</td>\n",
       "      <td>CHUBB QUICK FLOOD ESTIMATE WORKSHEET (@) PERSO...</td>\n",
       "    </tr>\n",
       "  </tbody>\n",
       "</table>\n",
       "</div>"
      ],
      "text/plain": [
       "   Unnamed: 0  level  page_num  block_num  par_num  line_num  word_num  left  \\\n",
       "0           0      5         1          1        1         1         1   160   \n",
       "1           1      5         1          1        1         1         2   561   \n",
       "\n",
       "   top  width  height       conf   text            required_col  \\\n",
       "0  263    355      82  96.495631  CHUBB  block_1,line_1,word_ 1   \n",
       "1  263    325      95  95.925887  QUICK  block_1,line_1,word_ 2   \n",
       "\n",
       "                                             new_col  \n",
       "0  CHUBB QUICK FLOOD ESTIMATE WORKSHEET (@) PERSO...  \n",
       "1  CHUBB QUICK FLOOD ESTIMATE WORKSHEET (@) PERSO...  "
      ]
     },
     "execution_count": 9,
     "metadata": {},
     "output_type": "execute_result"
    }
   ],
   "source": [
    "#printing the top 2 records of data4\n",
    "data4.head(2)"
   ]
  },
  {
   "cell_type": "code",
   "execution_count": 10,
   "id": "86df3d2d",
   "metadata": {},
   "outputs": [
    {
     "data": {
      "text/html": [
       "<div>\n",
       "<style scoped>\n",
       "    .dataframe tbody tr th:only-of-type {\n",
       "        vertical-align: middle;\n",
       "    }\n",
       "\n",
       "    .dataframe tbody tr th {\n",
       "        vertical-align: top;\n",
       "    }\n",
       "\n",
       "    .dataframe thead th {\n",
       "        text-align: right;\n",
       "    }\n",
       "</style>\n",
       "<table border=\"1\" class=\"dataframe\">\n",
       "  <thead>\n",
       "    <tr style=\"text-align: right;\">\n",
       "      <th></th>\n",
       "      <th>Unnamed: 0</th>\n",
       "      <th>level</th>\n",
       "      <th>page_num</th>\n",
       "      <th>block_num</th>\n",
       "      <th>par_num</th>\n",
       "      <th>line_num</th>\n",
       "      <th>word_num</th>\n",
       "      <th>left</th>\n",
       "      <th>top</th>\n",
       "      <th>width</th>\n",
       "      <th>height</th>\n",
       "      <th>conf</th>\n",
       "      <th>text</th>\n",
       "      <th>required_col</th>\n",
       "      <th>new_col</th>\n",
       "    </tr>\n",
       "  </thead>\n",
       "  <tbody>\n",
       "    <tr>\n",
       "      <th>0</th>\n",
       "      <td>0</td>\n",
       "      <td>5</td>\n",
       "      <td>1</td>\n",
       "      <td>1</td>\n",
       "      <td>1</td>\n",
       "      <td>1</td>\n",
       "      <td>1</td>\n",
       "      <td>3498</td>\n",
       "      <td>19</td>\n",
       "      <td>159</td>\n",
       "      <td>73</td>\n",
       "      <td>96.737217</td>\n",
       "      <td>Page</td>\n",
       "      <td>block_1,line_1,word_ 1</td>\n",
       "      <td>Page | of 9</td>\n",
       "    </tr>\n",
       "    <tr>\n",
       "      <th>1</th>\n",
       "      <td>1</td>\n",
       "      <td>5</td>\n",
       "      <td>1</td>\n",
       "      <td>1</td>\n",
       "      <td>1</td>\n",
       "      <td>1</td>\n",
       "      <td>2</td>\n",
       "      <td>3690</td>\n",
       "      <td>18</td>\n",
       "      <td>22</td>\n",
       "      <td>56</td>\n",
       "      <td>94.260635</td>\n",
       "      <td>|</td>\n",
       "      <td>block_1,line_1,word_ 2</td>\n",
       "      <td>Page | of 9</td>\n",
       "    </tr>\n",
       "  </tbody>\n",
       "</table>\n",
       "</div>"
      ],
      "text/plain": [
       "   Unnamed: 0  level  page_num  block_num  par_num  line_num  word_num  left  \\\n",
       "0           0      5         1          1        1         1         1  3498   \n",
       "1           1      5         1          1        1         1         2  3690   \n",
       "\n",
       "   top  width  height       conf  text            required_col      new_col  \n",
       "0   19    159      73  96.737217  Page  block_1,line_1,word_ 1  Page | of 9  \n",
       "1   18     22      56  94.260635     |  block_1,line_1,word_ 2  Page | of 9  "
      ]
     },
     "execution_count": 10,
     "metadata": {},
     "output_type": "execute_result"
    }
   ],
   "source": [
    "#printing the top 2 records of data5\n",
    "data5.head(2)"
   ]
  },
  {
   "cell_type": "code",
   "execution_count": 11,
   "id": "2c1d6b45",
   "metadata": {},
   "outputs": [
    {
     "data": {
      "text/html": [
       "<div>\n",
       "<style scoped>\n",
       "    .dataframe tbody tr th:only-of-type {\n",
       "        vertical-align: middle;\n",
       "    }\n",
       "\n",
       "    .dataframe tbody tr th {\n",
       "        vertical-align: top;\n",
       "    }\n",
       "\n",
       "    .dataframe thead th {\n",
       "        text-align: right;\n",
       "    }\n",
       "</style>\n",
       "<table border=\"1\" class=\"dataframe\">\n",
       "  <thead>\n",
       "    <tr style=\"text-align: right;\">\n",
       "      <th></th>\n",
       "      <th>Unnamed: 0</th>\n",
       "      <th>level</th>\n",
       "      <th>page_num</th>\n",
       "      <th>block_num</th>\n",
       "      <th>par_num</th>\n",
       "      <th>line_num</th>\n",
       "      <th>word_num</th>\n",
       "      <th>left</th>\n",
       "      <th>top</th>\n",
       "      <th>width</th>\n",
       "      <th>height</th>\n",
       "      <th>conf</th>\n",
       "      <th>text</th>\n",
       "      <th>required_col</th>\n",
       "      <th>new_col</th>\n",
       "    </tr>\n",
       "  </thead>\n",
       "  <tbody>\n",
       "    <tr>\n",
       "      <th>0</th>\n",
       "      <td>0</td>\n",
       "      <td>5</td>\n",
       "      <td>1</td>\n",
       "      <td>1</td>\n",
       "      <td>1</td>\n",
       "      <td>1</td>\n",
       "      <td>1</td>\n",
       "      <td>1685</td>\n",
       "      <td>264</td>\n",
       "      <td>277</td>\n",
       "      <td>61</td>\n",
       "      <td>95.508388</td>\n",
       "      <td>Excess</td>\n",
       "      <td>block_1,line_1,word_ 1</td>\n",
       "      <td>Excess Flood Insurance Policy Application — Fl...</td>\n",
       "    </tr>\n",
       "    <tr>\n",
       "      <th>1</th>\n",
       "      <td>1</td>\n",
       "      <td>5</td>\n",
       "      <td>1</td>\n",
       "      <td>1</td>\n",
       "      <td>1</td>\n",
       "      <td>1</td>\n",
       "      <td>2</td>\n",
       "      <td>1996</td>\n",
       "      <td>264</td>\n",
       "      <td>215</td>\n",
       "      <td>61</td>\n",
       "      <td>95.420770</td>\n",
       "      <td>Flood</td>\n",
       "      <td>block_1,line_1,word_ 2</td>\n",
       "      <td>Excess Flood Insurance Policy Application — Fl...</td>\n",
       "    </tr>\n",
       "  </tbody>\n",
       "</table>\n",
       "</div>"
      ],
      "text/plain": [
       "   Unnamed: 0  level  page_num  block_num  par_num  line_num  word_num  left  \\\n",
       "0           0      5         1          1        1         1         1  1685   \n",
       "1           1      5         1          1        1         1         2  1996   \n",
       "\n",
       "   top  width  height       conf    text            required_col  \\\n",
       "0  264    277      61  95.508388  Excess  block_1,line_1,word_ 1   \n",
       "1  264    215      61  95.420770   Flood  block_1,line_1,word_ 2   \n",
       "\n",
       "                                             new_col  \n",
       "0  Excess Flood Insurance Policy Application — Fl...  \n",
       "1  Excess Flood Insurance Policy Application — Fl...  "
      ]
     },
     "execution_count": 11,
     "metadata": {},
     "output_type": "execute_result"
    }
   ],
   "source": [
    "#printing the top 2 records of data6\n",
    "data6.head(2)"
   ]
  },
  {
   "cell_type": "code",
   "execution_count": 12,
   "id": "97d56912",
   "metadata": {},
   "outputs": [
    {
     "data": {
      "text/plain": [
       "(480, 15)"
      ]
     },
     "execution_count": 12,
     "metadata": {},
     "output_type": "execute_result"
    }
   ],
   "source": [
    "#checking shape of data1\n",
    "data1.shape"
   ]
  },
  {
   "cell_type": "code",
   "execution_count": 14,
   "id": "3bbb4665",
   "metadata": {},
   "outputs": [
    {
     "data": {
      "text/plain": [
       "(469, 15)"
      ]
     },
     "execution_count": 14,
     "metadata": {},
     "output_type": "execute_result"
    }
   ],
   "source": [
    "#checking shape of data2\n",
    "data2.shape"
   ]
  },
  {
   "cell_type": "code",
   "execution_count": 15,
   "id": "b5e1aff9",
   "metadata": {},
   "outputs": [
    {
     "data": {
      "text/plain": [
       "(455, 15)"
      ]
     },
     "execution_count": 15,
     "metadata": {},
     "output_type": "execute_result"
    }
   ],
   "source": [
    "#checking shape of data3\n",
    "data3.shape"
   ]
  },
  {
   "cell_type": "code",
   "execution_count": 16,
   "id": "25e20d10",
   "metadata": {},
   "outputs": [
    {
     "data": {
      "text/plain": [
       "(469, 15)"
      ]
     },
     "execution_count": 16,
     "metadata": {},
     "output_type": "execute_result"
    }
   ],
   "source": [
    "#checking shape of data4\n",
    "data4.shape"
   ]
  },
  {
   "cell_type": "code",
   "execution_count": 17,
   "id": "1622d875",
   "metadata": {},
   "outputs": [
    {
     "data": {
      "text/plain": [
       "(2326, 15)"
      ]
     },
     "execution_count": 17,
     "metadata": {},
     "output_type": "execute_result"
    }
   ],
   "source": [
    "#checking shape of data5\n",
    "data5.shape"
   ]
  },
  {
   "cell_type": "code",
   "execution_count": 18,
   "id": "e9cbf65c",
   "metadata": {},
   "outputs": [
    {
     "data": {
      "text/plain": [
       "(888, 15)"
      ]
     },
     "execution_count": 18,
     "metadata": {},
     "output_type": "execute_result"
    }
   ],
   "source": [
    "#checking shape of data6\n",
    "data6.shape"
   ]
  },
  {
   "cell_type": "code",
   "execution_count": 19,
   "id": "bc4f14b1",
   "metadata": {},
   "outputs": [
    {
     "data": {
      "text/plain": [
       "array(['CHUBB QUICK FLOOD ESTIMATE WORKSHEET (_) PERSONAL (PRIMARY) FLOOD',\n",
       "       '. . . . . Primary = 1st dollar coverage up to repl.',\n",
       "       'A premium estimate derived from this worksheet is not the result of a cost: S15M total promerty atone lowation',\n",
       "       'complete underwriting process nor does it constitute an offer of coverage. EXCESS FLOOD',\n",
       "       'Premium subject to change upon receipt of fully completed application. Excess = over maximum NFIP limits or',\n",
       "       'the Self-Insured Retention', 'Submit to:',\n",
       "       'WNC First Insurance Services > Email: chubbflood@wncfirst.com Fax: 305-587-2405 Phone: 888-386-9488',\n",
       "       'AGENT/BROKER INFORMATION', 'Agency Name: NFP',\n",
       "       'Agency Contact Info > Name:', 'Email:_',\n",
       "       'INSURED INFORMATION OsiG OPremier',\n",
       "       'Insured Name: HENRY LAWRENCE CULP JR AND WENDY CULP Chubb Ltd Policy No.: 1236050539',\n",
       "       'Property Location (must be insured with Chubb Ltd):',\n",
       "       'Street: 102 HIGH ST',\n",
       "       'City: CHESTERTOWN __ County (required): KENT Zip: 21620',\n",
       "       'Chubb Ltd Homeowner/Condominium/Cooperative/Renter Coverage Limits:',\n",
       "       'Building or A&A $ 3949000 __ Contents $ 789200 Deductible (all peril) $ 10000',\n",
       "       'HemeewnerPelicy Effective Date: {/ —/ >', 'RATING INFORMATION',\n",
       "       'Any flood or water damage losses, including sump pump failure, backup of sewer and drain or seepage, paid or unpaid',\n",
       "       'in the last 10 years? ©OYES ©NO',\n",
       "       'Date(s) of loss: _=_—/__—s_si/ Amount(s) of loss:',\n",
       "       '*Risks with prior losses from flooding events are not eligible for preferred rates where available*',\n",
       "       'Date of Construction:°1_/01—/69 _— Elevated? OYES ©@NO Type of Building: © single-family',\n",
       "       '© 2-Family', '© Condo/Cooperative',\n",
       "       'Ex-Wind Homeowners Policy? OYES ©NO Under Construction/Renovation? OYES ©NO',\n",
       "       '*Ex-Wind policies or buildings under construction/renovation are ineligible for coverage*',\n",
       "       'Foundation Information',\n",
       "       'OBasement OsSlab on Grade Ocrawl Space ©O Enclosure',\n",
       "       'OFinished OUnfinished',\n",
       "       'Any A or V Flood Zone, please provide the BFE and LFE (not required for B, C or X zones):',\n",
       "       'Flood Zone: BFE: _____—LFE:',\n",
       "       'Number of Stories: 2 If elevated, by: OpPiers OPosts Ocolumns',\n",
       "       'FLOOD LIMITS REQUESTED,', 'Basic Limits Additional Limits',\n",
       "       'Building or A&A S 3949000', 'Contents S 789200',\n",
       "       'Deductible> S 10000', '(not applicable to excess)', ' ',\n",
       "       'Se Contents in Basement S', 'Real Property in Basement S',\n",
       "       'Rebuilding to Code',\n",
       "       'Requested Effective Date of Flood Policy: 91/15 _—_—// 22',\n",
       "       '1. For primary flood an additional premium applies to increases to any of the following coverages: Real Property in the Basement, Contents in the Basement,',\n",
       "       'Rebuilding to Code and Additional Living Expenses (ALE). For excess flood $7,500 of ALE coverage is included. Addition of any of the remaining related',\n",
       "       'coverages or increased ALE is optional, subject to an additional premium and underwriting acceptability.',\n",
       "       '2. The flood deductible must be equal to or greater than the underlying Homeowners all peril deductible.',\n",
       "       'Date Quote Form Submitted to WNC: 91/14/22',\n",
       "       'A FORMAL AND GUARANTEED QUOTE CAN ONLY BE OTAINED UPON CHUBB’S REVIEW OF A FULL COMPLETED CHUBB PERSONAL OR EXCESS FLOOD',\n",
       "       'APPLICATION (AND ELEVATION CERTIFICATE, IF APPLICABLE) AND THE COMPLETION OF CHUBB’S UNDERWRITING PROCESS.',\n",
       "       nan], dtype=object)"
      ]
     },
     "execution_count": 19,
     "metadata": {},
     "output_type": "execute_result"
    }
   ],
   "source": [
    "#extracting unique values from the dataset\n",
    "data1['new_col'].unique()"
   ]
  },
  {
   "cell_type": "code",
   "execution_count": 20,
   "id": "ad71fc3a",
   "metadata": {},
   "outputs": [
    {
     "data": {
      "text/plain": [
       "array(['CHUBB QUICK FLOOD ESTIMATE WORKSHEET (@) PERSONAL (PRIMARY) FLOOD',\n",
       "       'A premium estimate derived from this worksheet is not the result of a raat e aM fot properhrel one lonelier',\n",
       "       'complete underwriting process nor does it constitute an offer of coverage. EXCESS FLOOD',\n",
       "       'Premium subject to change upon receipt of fully completed application. Pocese = aver niacin: MIE NIMS oF',\n",
       "       'the Self-Insured Retention', 'Submit to:',\n",
       "       'WNC First Insurance Services > Email: chubbflood@wncfirst.com Fax: 305-587-2405 Phone: 888-386-9488',\n",
       "       'AGENT/BROKER INFORMATION',\n",
       "       'Agency Name:NFP Property & Casualty Legacy Chubb Agency Code: 79301',\n",
       "       'Agency Contact Info > Name: Karen Bartels Phone: 516-719-7831',\n",
       "       'Email: karen.bartels@nfp.com Fax:', 'INSURED INFORMATION',\n",
       "       'Insured Name: Andrianna Infusino Chubb Ltd Policy No.: 1BD - New Purchase',\n",
       "       'Property Location (must be insured with Chubb Ltd):',\n",
       "       'Street: 8 Allerton Ct',\n",
       "       'City: Florham Park ————————_—sCounntty (required):Morris State: Nu Zip: 07932',\n",
       "       'Chubb Ltd Homeowner/Condominium/Cooperative/Renter Coverage Limits:',\n",
       "       'Building or A&A $1,750,000 Contents $875,000 Deductible (all peril) $2,500',\n",
       "       'RATING INFORMATION',\n",
       "       'Any flood or water damage losses, including sump pump failure, backup of sewer and drain or seepage, paid or unpaid',\n",
       "       'in the last 10 years? OYES ©NO',\n",
       "       'Date(s) ofloss: _/ _—i/ Amount(s) of loss:',\n",
       "       '*Risks with prior losses from flooding events are not eligible for preferred rates where available*',\n",
       "       'Date of Construction:°1 — /91_—/1981_— Elevated? OYES ONO Type of Building: © single-family',\n",
       "       'O 2-Family',\n",
       "       'Number of Stories: If elevated, by: O Piers OPosts = QOcColumns O Condo/Cooperative',\n",
       "       'Ex-Wind Homeowners Policy? OYES ©NO Under Construction/Renovation? OYES ©NO',\n",
       "       '*Ex-Wind policies or buildings under construction/renovation are ineligible for coverage*',\n",
       "       'Foundation Information',\n",
       "       '© Basement OSlab on Grade OCrawl Space OEnclosure',\n",
       "       '©Finished OUnfinished',\n",
       "       'Any A or V Flood Zone, please provide the BFE and LFE (not required for B, C or X zones):',\n",
       "       'Flood Zone: BFE: LFE:', 'FLOOD LIMITS REQUESTED,',\n",
       "       'Basic Limits Additional Limits',\n",
       "       'Building or A&A S 250,000 Contents in Basement S Maximum',\n",
       "       'Contents S 100,000 Real Property in Basement S Maximum',\n",
       "       'Deductiblez § 2,500 Additional Living Expenses (ALE)S Maximum',\n",
       "       '(not applicable to excess) Rebuilding to Code S Maxium', ' ',\n",
       "       '1. For primary flood an additional premium applies to increases to any of the following coverages: Real Property in the Basement, Contents in the Basement,',\n",
       "       'Rebuilding to Code and Additional Living Expenses (ALE). For excess flood $7,500 of ALE coverage is included. Addition of any of the remaining related',\n",
       "       'coverages or increased ALE is optional, subject to an additional premium and underwriting acceptability.',\n",
       "       '2. The flood deductible must be equal to or greater than the underlying Homeowners all peril deductible.',\n",
       "       'Date Quote Form Submitted to WNC: 91/12/2022',\n",
       "       'A FORMAL AND GUARANTEED QUOTE CAN ONLY BE OTAINED UPON CHUBB’S REVIEW OF A FULL COMPLETED CHUBB PERSONAL OR EXCESS FLOOD',\n",
       "       'APPLICATION (AND ELEVATION CERTIFICATE, IF APPLICABLE) AND THE COMPLETION OF CHUBB’S UNDERWRITING PROCESS.',\n",
       "       'CHUBB REFERS TO THE INSURERS OF THE CHUBB GROUP OF INSURANCE COMPANIES',\n",
       "       nan], dtype=object)"
      ]
     },
     "execution_count": 20,
     "metadata": {},
     "output_type": "execute_result"
    }
   ],
   "source": [
    "#extracting unique values from the dataset\n",
    "data2['new_col'].unique()"
   ]
  },
  {
   "cell_type": "code",
   "execution_count": 21,
   "id": "f38d23f9",
   "metadata": {},
   "outputs": [
    {
     "data": {
      "text/plain": [
       "array(['A PREMIUM ESTIMATE DERIVED FROM THIS WORKSHEET IS NOT THE RESULT OFA',\n",
       "       'COMPLETE UNDERWRITING PROCESS NOR DOES IT CONSTITUTE AN OFFER OF COVERAGE',\n",
       "       'CHUBB QUICK FLOOD ESTIMATE WORKSHEET (CHECK ONE)',\n",
       "       'CHUBB PERSONAL (PRIMARY) FLOOD OR CHUBB EXCESS FLOOD',\n",
       "       'Primary = Ist dollar coverage up to repl. cost; $15M total property @one location — Excess = over maximum NFIP limits or the Self-Insured Retention',\n",
       "       ' ', 'Submit to: Thomas Phillips ext. 5004 tphillips@wncfirst.com',\n",
       "       'WNC First Insurance Services by Fax: (305) 270-0327 — Scarlett Fernandez ext. 5007 sfernandez@wncfirst.com',\n",
       "       'or email: chubbflood@wncfirst.com Dayanara Lago-Ciriaco ext 5003 dciriaco@wncfirst.com',\n",
       "       'Contact: (888) 386-9488 Lydia Argote ext. 5005 largote@wncfirst.com',\n",
       "       'AGENT/BROKER INFORMATION',\n",
       "       'PRODUCER NAME: _ KRA Insurance Agency PRODUCER NO: 61857',\n",
       "       'CONTACT INFO: Name Adam Burrick Phone: _ 973-671-0078 Fax: 973-850-4323',\n",
       "       'INSURED’S INFORMATION',\n",
       "       'INSURED’S NAME: ___Dr Barney Kenet CHUBB POLICY NO. 768062861',\n",
       "       'HOUSE/CONDO or CO-OP PROPERTY LOCATION (must be insured with Chubb - EX-WIND POLICIES ARE INELIGIBLE):',\n",
       "       'Street: 234 E 72™ St',\n",
       "       'City: New York County: (requirep) __ Manhattan _State:_NY_ Zip: _10021 _',\n",
       "       'FLOOD COVERAGE INFORMATION!',\n",
       "       'Building or AXA $ 500,000 Contents $ —_ 100,000 Deductible (Not applicable to excess) $ 5,000 __',\n",
       "       'RATING INFORMATION?', 'Prior losses: Yes xx No',\n",
       "       'Date of Construction: 4 / 1 / 1910 _ (orsubstantial improvement date if it increased building’s market value>50%)',\n",
       "       'Chubb Homeowners/Condominium/Cooperative Coverage Limits:',\n",
       "       'Building or AXR®A$ A&A: 4,493,000 Contents$ ———_—-6 43,000',\n",
       "       'Flood Zone ———x_~——sSTFype of Building: Single Family xs‘ 2-Family Condominium/Cooperative x',\n",
       "       'Foundation Information',\n",
       "       '__3.__ Number of Stories (excluding basement) ___y | Basement(Y/N) Finished ___x___ Unfinished',\n",
       "       'Enclosure Slab on Grade Crawl Space',\n",
       "       'Elevated (If Yes by) Piers/Posts/Columns (circle)',\n",
       "       'FOR ANY A OR V FLOOD ZONE, PLEASE PROVIDE THE FOLLOWING INFORMATION (not required for B, C or X zones):',\n",
       "       'Flood Zone X Community Number If applicable: BFE LFE',\n",
       "       '1. For primary flood an additional premium applies to increases to any of the following coverages: Real Property in the Basement,',\n",
       "       'Contents in the Basement, Rebuilding to Code and Additional Living Expenses (ALE). For excess flood $7,500 of ALE coverage is',\n",
       "       'included. Addition of any of the remaining related coverages or increased ALE is optional, subject to an additional premium and',\n",
       "       'underwriting acceptability.',\n",
       "       '2. If the structure has been previously insured under the NFIP or by another flood carrier, please fax a copy of the prior policy and/or',\n",
       "       'the elevation certificate, if available. For Post-FIRM risks in A or V zones, elevation information will be required to receive a formal',\n",
       "       'and guaranteed quote.', 'Date Quote Submitted to WNC: 12/7/21',\n",
       "       'A FORMAL AND GUARANTEED QUOTE CAN ONLY BE OBTAINED UPON CHUBB’S REVIEW OF A FULLY COMPLETED CHUBB PERSONAL',\n",
       "       'OR EXCESS FLOOD APPLICATION (and Elevation Certificate, if applicable) AND THE COMPLETION OF CHUBB’S UNDERWRITING PROCESS',\n",
       "       nan], dtype=object)"
      ]
     },
     "execution_count": 21,
     "metadata": {},
     "output_type": "execute_result"
    }
   ],
   "source": [
    "#extracting unique values from the dataset\n",
    "data3['new_col'].unique()"
   ]
  },
  {
   "cell_type": "code",
   "execution_count": 22,
   "id": "acd23b25",
   "metadata": {},
   "outputs": [
    {
     "data": {
      "text/plain": [
       "array(['CHUBB QUICK FLOOD ESTIMATE WORKSHEET (@) PERSONAL (PRIMARY) FLOOD',\n",
       "       'A premium estimate derived from this worksheet is not the result of a raat e aM fot properhrel one lonelier',\n",
       "       'complete underwriting process nor does it constitute an offer of coverage. EXCESS FLOOD',\n",
       "       'Premium subject to change upon receipt of fully completed application. Pocese = aver niacin: MIE NIMS oF',\n",
       "       'the Self-Insured Retention', 'Submit to:',\n",
       "       'WNC First Insurance Services > Email: chubbflood@wncfirst.com Fax: 305-587-2405 Phone: 888-386-9488',\n",
       "       'AGENT/BROKER INFORMATION',\n",
       "       'Agency Name:NFP Property & Casualty Legacy Chubb Agency Code: 79301',\n",
       "       'Agency Contact Info > Name: Karen Bartels Phone: 516-719-7831',\n",
       "       'Email: karen.bartels@nfp.com Fax:', 'INSURED INFORMATION',\n",
       "       'Insured Name: Andrianna Infusino Chubb Ltd Policy No.: 1BD - New Purchase',\n",
       "       'Property Location (must be insured with Chubb Ltd):',\n",
       "       'Street: 8 Allerton Ct',\n",
       "       'City: Florham Park ————————_—sCounntty (required):Morris State: Nu Zip: 07932',\n",
       "       'Chubb Ltd Homeowner/Condominium/Cooperative/Renter Coverage Limits:',\n",
       "       'Building or A&A $1,750,000 Contents $875,000 Deductible (all peril) $2,500',\n",
       "       'RATING INFORMATION',\n",
       "       'Any flood or water damage losses, including sump pump failure, backup of sewer and drain or seepage, paid or unpaid',\n",
       "       'in the last 10 years? OYES ©NO',\n",
       "       'Date(s) ofloss: _/ _—i/ Amount(s) of loss:',\n",
       "       '*Risks with prior losses from flooding events are not eligible for preferred rates where available*',\n",
       "       'Date of Construction:°1 — /91_—/1981_— Elevated? OYES ONO Type of Building: © single-family',\n",
       "       'O 2-Family',\n",
       "       'Number of Stories: If elevated, by: O Piers OPosts = QOcColumns O Condo/Cooperative',\n",
       "       'Ex-Wind Homeowners Policy? OYES ©NO Under Construction/Renovation? OYES ©NO',\n",
       "       '*Ex-Wind policies or buildings under construction/renovation are ineligible for coverage*',\n",
       "       'Foundation Information',\n",
       "       '© Basement OSlab on Grade OCrawl Space OEnclosure',\n",
       "       '©Finished OUnfinished',\n",
       "       'Any A or V Flood Zone, please provide the BFE and LFE (not required for B, C or X zones):',\n",
       "       'Flood Zone: BFE: LFE:', 'FLOOD LIMITS REQUESTED,',\n",
       "       'Basic Limits Additional Limits',\n",
       "       'Building or A&A S 250,000 Contents in Basement S Maximum',\n",
       "       'Contents S 100,000 Real Property in Basement S Maximum',\n",
       "       'Deductiblez § 2,500 Additional Living Expenses (ALE)S Maximum',\n",
       "       '(not applicable to excess) Rebuilding to Code S Maxium', ' ',\n",
       "       '1. For primary flood an additional premium applies to increases to any of the following coverages: Real Property in the Basement, Contents in the Basement,',\n",
       "       'Rebuilding to Code and Additional Living Expenses (ALE). For excess flood $7,500 of ALE coverage is included. Addition of any of the remaining related',\n",
       "       'coverages or increased ALE is optional, subject to an additional premium and underwriting acceptability.',\n",
       "       '2. The flood deductible must be equal to or greater than the underlying Homeowners all peril deductible.',\n",
       "       'Date Quote Form Submitted to WNC: 91/12/2022',\n",
       "       'A FORMAL AND GUARANTEED QUOTE CAN ONLY BE OTAINED UPON CHUBB’S REVIEW OF A FULL COMPLETED CHUBB PERSONAL OR EXCESS FLOOD',\n",
       "       'APPLICATION (AND ELEVATION CERTIFICATE, IF APPLICABLE) AND THE COMPLETION OF CHUBB’S UNDERWRITING PROCESS.',\n",
       "       'CHUBB REFERS TO THE INSURERS OF THE CHUBB GROUP OF INSURANCE COMPANIES',\n",
       "       nan], dtype=object)"
      ]
     },
     "execution_count": 22,
     "metadata": {},
     "output_type": "execute_result"
    }
   ],
   "source": [
    "#extracting unique values from the dataset\n",
    "data4['new_col'].unique()"
   ]
  },
  {
   "cell_type": "code",
   "execution_count": 23,
   "id": "f0fe0a51",
   "metadata": {},
   "outputs": [],
   "source": [
    "#dropping the null values for the all  datasets from 1 to 6\n",
    "data1 = data1.dropna()\n",
    "data2 = data2.dropna()\n",
    "data3 = data3.dropna()\n",
    "data4 = data4.dropna()\n",
    "data5 = data5.dropna()\n",
    "data6 = data6.dropna()"
   ]
  },
  {
   "cell_type": "markdown",
   "id": "740701d1",
   "metadata": {},
   "source": [
    "# Contents in Basement key"
   ]
  },
  {
   "cell_type": "code",
   "execution_count": 24,
   "id": "4a1dbddb",
   "metadata": {},
   "outputs": [],
   "source": [
    "#reading the given key as string\n",
    "str1 = 'Contents in Basement'"
   ]
  },
  {
   "cell_type": "code",
   "execution_count": 25,
   "id": "7128f0e4",
   "metadata": {},
   "outputs": [],
   "source": [
    "#writing function to retrieve the values of new_col from every dataset\n",
    "output_final =[]\n",
    "def output_list(str):\n",
    "    for i in range(1,7):\n",
    "        data = pd.read_csv(f\"{i}.csv\")\n",
    "        data = data.dropna()\n",
    "        csv= data[data['new_col'].str.contains(str1)]\n",
    "        a=csv['new_col'].unique()\n",
    "        lis1=list(a)\n",
    "        #print(lis1)\n",
    "        lis2=(''.join(lis1))\n",
    "        \n",
    "        string = lis2\n",
    "        sub_str = 'Maximum'\n",
    "        if(string.find(sub_str)==-1):\n",
    "            print('for  data{} value not found'.format(i))\n",
    "            output_final.append('')\n",
    "            #output_lis2.append(output_lis1)\n",
    "            #return output_final\n",
    "        else:\n",
    "            print('for  data{} value found'.format(i))\n",
    "            def listtostr(lis1):\n",
    "                    str3 =\" \"\n",
    "                    for e in lis1:\n",
    "                        str3+=e\n",
    "                    return str3\n",
    "                \n",
    "            str5=listtostr(lis1)\n",
    "            print(str5) \n",
    "            def lastword(str):\n",
    "                newstr = ''\n",
    "                length = len(str)\n",
    "                for i in range(length-1,0,-1):\n",
    "                    if (str[i]==\" \"):\n",
    "                        return newstr[::-1]\n",
    "                    else:\n",
    "                        newstr=newstr+str[i]\n",
    "                        \n",
    "            op2=lastword(str5)\n",
    "            print(op2)\n",
    "            output_final.append(op2)  \n",
    "            \n",
    "    return output_final\n"
   ]
  },
  {
   "cell_type": "code",
   "execution_count": 26,
   "id": "06e9c2cd",
   "metadata": {},
   "outputs": [
    {
     "name": "stdout",
     "output_type": "stream",
     "text": [
      "for  data1 value not found\n",
      "for  data2 value found\n",
      " Building or A&A S 250,000 Contents in Basement S Maximum\n",
      "Maximum\n",
      "for  data3 value not found\n",
      "for  data4 value not found\n",
      "for  data5 value not found\n",
      "for  data6 value not found\n"
     ]
    },
    {
     "data": {
      "text/plain": [
       "['', 'Maximum', '', '', '', '']"
      ]
     },
     "execution_count": 26,
     "metadata": {},
     "output_type": "execute_result"
    }
   ],
   "source": [
    "output_list(str1)"
   ]
  },
  {
   "cell_type": "markdown",
   "id": "98372e67",
   "metadata": {},
   "source": [
    "# Real Property in Basement key"
   ]
  },
  {
   "cell_type": "code",
   "execution_count": 27,
   "id": "a3d78179",
   "metadata": {},
   "outputs": [],
   "source": [
    "#reading the given key as string\n",
    "str2 = 'Real Property in Basement'"
   ]
  },
  {
   "cell_type": "code",
   "execution_count": 29,
   "id": "095bd90d",
   "metadata": {},
   "outputs": [],
   "source": [
    "#writing function to retrieve the values of new_col from every dataset\n",
    "output_final2 =[]\n",
    "def output_list2(str):\n",
    "    for i in range(1,7):\n",
    "        data = pd.read_csv(f\"{i}.csv\")\n",
    "        data = data.dropna()\n",
    "        csv= data[data['new_col'].str.contains(str2)]\n",
    "        a=csv['new_col'].unique()\n",
    "        lis1=list(a)\n",
    "        #print(lis1)\n",
    "        lis2=(''.join(lis1))\n",
    "        \n",
    "        string = lis2\n",
    "        sub_str = 'Maximum'\n",
    "        if(string.find(sub_str)==-1):\n",
    "            print('for  data{} value not found'.format(i))\n",
    "            output_final2.append('')\n",
    "            #output_lis2.append(output_lis1)\n",
    "            #return output_final\n",
    "        else:\n",
    "            print('for  data{} value found'.format(i))\n",
    "            def listtostr(lis1):\n",
    "                    str3 =\" \"\n",
    "                    for e in lis1:\n",
    "                        str3+=e\n",
    "                    return str3\n",
    "                \n",
    "            str5=listtostr(lis1)\n",
    "            print(str5) \n",
    "            def lastword(str):\n",
    "                newstr = ''\n",
    "                length = len(str)\n",
    "                for i in range(length-1,0,-1):\n",
    "                    if (str[i]==\" \"):\n",
    "                        return newstr[::-1]\n",
    "                    else:\n",
    "                        newstr=newstr+str[i]\n",
    "                        \n",
    "            op2=lastword(str5)\n",
    "            print(op2)\n",
    "            output_final2.append(op2)  \n",
    "            \n",
    "    return output_final2\n",
    "\n"
   ]
  },
  {
   "cell_type": "code",
   "execution_count": 30,
   "id": "dfea6b2e",
   "metadata": {},
   "outputs": [
    {
     "name": "stdout",
     "output_type": "stream",
     "text": [
      "for  data1 value not found\n",
      "for  data2 value found\n",
      " Contents S 100,000 Real Property in Basement S Maximum\n",
      "Maximum\n",
      "for  data3 value not found\n",
      "for  data4 value not found\n",
      "for  data5 value not found\n",
      "for  data6 value not found\n"
     ]
    },
    {
     "data": {
      "text/plain": [
       "['', 'Maximum', '', '', '', '']"
      ]
     },
     "execution_count": 30,
     "metadata": {},
     "output_type": "execute_result"
    }
   ],
   "source": [
    "output_list2(str2)"
   ]
  },
  {
   "cell_type": "markdown",
   "id": "1a9f6432",
   "metadata": {},
   "source": [
    "# Rebuilding to Code key"
   ]
  },
  {
   "cell_type": "code",
   "execution_count": 31,
   "id": "e5a0862b",
   "metadata": {},
   "outputs": [],
   "source": [
    "#representing the given key as string\n",
    "str3 = 'Rebuilding to Code'"
   ]
  },
  {
   "cell_type": "code",
   "execution_count": 32,
   "id": "3447acc9",
   "metadata": {},
   "outputs": [],
   "source": [
    "##function for retrieve values of new_col from all datasets\n",
    "output_final3 =[]\n",
    "def output_list3(str):\n",
    "    for i in range(1,7):\n",
    "        data = pd.read_csv(f\"{i}.csv\")\n",
    "        data = data.dropna()\n",
    "        csv= data[data['new_col'].str.contains(str3)]\n",
    "        a=csv['new_col'].unique()\n",
    "        lis1=list(a)\n",
    "        #print(lis1)\n",
    "        lis2=(''.join(lis1))\n",
    "        #print(lis2)\n",
    "        \n",
    "        string = lis2\n",
    "        sub_str = 'Maxium'\n",
    "        if(string.find(sub_str)==-1):\n",
    "            print('for  data{} value not found'.format(i))\n",
    "            output_final3.append('')\n",
    "            #output_lis2.append(output_lis1)\n",
    "            #return output_final\n",
    "        else:\n",
    "            print('for  data{} value found'.format(i))\n",
    "            def listtostr(lis1):\n",
    "                    str3 =\" \"\n",
    "                    for e in lis1:\n",
    "                        str3+=e\n",
    "                    return str3\n",
    "                \n",
    "            str5=listtostr(lis1)\n",
    "            print(str5) \n",
    "            def lastword(str):\n",
    "                newstr = ''\n",
    "                length = len(str)\n",
    "                for i in range(length-1,0,-1):\n",
    "                    if (str[i]==\" \"):\n",
    "                        return newstr[::-1]\n",
    "                    else:\n",
    "                        newstr=newstr+str[i]\n",
    "                        \n",
    "            op2=lastword(str5)\n",
    "            print(op2)\n",
    "            output_final3.append('Maxium')  \n",
    "            \n",
    "    return output_final3\n"
   ]
  },
  {
   "cell_type": "code",
   "execution_count": 33,
   "id": "62f4a422",
   "metadata": {},
   "outputs": [
    {
     "name": "stdout",
     "output_type": "stream",
     "text": [
      "for  data1 value not found\n",
      "for  data2 value found\n",
      " (not applicable to excess) Rebuilding to Code S MaxiumRebuilding to Code and Additional Living Expenses (ALE). For excess flood $7,500 of ALE coverage is included. Addition of any of the remaining related\n",
      "related\n",
      "for  data3 value not found\n",
      "for  data4 value not found\n",
      "for  data5 value not found\n",
      "for  data6 value not found\n"
     ]
    },
    {
     "data": {
      "text/plain": [
       "['', 'Maxium', '', '', '', '']"
      ]
     },
     "execution_count": 33,
     "metadata": {},
     "output_type": "execute_result"
    }
   ],
   "source": [
    "output_list3(str3)"
   ]
  },
  {
   "cell_type": "markdown",
   "id": "1a602a01",
   "metadata": {},
   "source": [
    "# CHUBB PERSONAL (PRIMARY) FLOOD OR CHUBB EXCESS FLOOD key"
   ]
  },
  {
   "cell_type": "code",
   "execution_count": 34,
   "id": "9b7a607f",
   "metadata": {},
   "outputs": [],
   "source": [
    "#representing the given key as string\n",
    "str4 = 'FLOOD OR CHUBB EXCESS FLOOD'"
   ]
  },
  {
   "cell_type": "code",
   "execution_count": 35,
   "id": "b8c536ca",
   "metadata": {},
   "outputs": [],
   "source": [
    "output_final4 =[]\n",
    "def output_list4(str):\n",
    "    for i in range(1,7):\n",
    "        data = pd.read_csv(f\"{i}.csv\")\n",
    "        data = data.dropna()\n",
    "        csv= data[data['new_col'].str.contains(str4)]\n",
    "        a=csv['new_col'].unique()\n",
    "        lis1=list(a)\n",
    "        #print(lis1)\n",
    "        lis2=(''.join(lis1))\n",
    "        #print(lis2)\n",
    "        \n",
    "        string = lis2\n",
    "        sub_str = '____'\n",
    "        if(string.find(sub_str)==-1):\n",
    "            print('for  data{} value not found'.format(i))\n",
    "            output_final4.append('')\n",
    "            #output_lis2.append(output_lis1)\n",
    "            #return output_final\n",
    "        else:\n",
    "            print('for  data{} value found'.format(i))\n",
    "            def listtostr(lis1):\n",
    "                    str3 =\" \"\n",
    "                    for e in lis1:\n",
    "                        str3+=e\n",
    "                    return str3\n",
    "                \n",
    "            str5=listtostr(lis1)\n",
    "            print(str5) \n",
    "            def lastword(str):\n",
    "                newstr = ''\n",
    "                length = len(str)\n",
    "                for i in range(length-1,0,-1):\n",
    "                    if (str[i]==\" \"):\n",
    "                        return newstr[::-1]\n",
    "                    else:\n",
    "                        newstr=newstr+str[i]\n",
    "                        \n",
    "            op2=lastword(str5)\n",
    "            print(op2)\n",
    "            output_final4.append(op2)  \n",
    "            \n",
    "    return output_final4\n"
   ]
  },
  {
   "cell_type": "code",
   "execution_count": 36,
   "id": "f0c0274f",
   "metadata": {},
   "outputs": [
    {
     "name": "stdout",
     "output_type": "stream",
     "text": [
      "for  data1 value not found\n",
      "for  data2 value not found\n",
      "for  data3 value not found\n",
      "for  data4 value not found\n",
      "for  data5 value not found\n",
      "for  data6 value not found\n"
     ]
    },
    {
     "data": {
      "text/plain": [
       "['', '', '', '', '', '']"
      ]
     },
     "execution_count": 36,
     "metadata": {},
     "output_type": "execute_result"
    }
   ],
   "source": [
    "output_list4(str4)"
   ]
  },
  {
   "cell_type": "markdown",
   "id": "cb03107f",
   "metadata": {},
   "source": [
    "# PRODUCER NAME key"
   ]
  },
  {
   "cell_type": "code",
   "execution_count": 44,
   "id": "bed036e6",
   "metadata": {},
   "outputs": [],
   "source": [
    "#representing the given key as string\n",
    "str55 = 'PRODUCER NAME'"
   ]
  },
  {
   "cell_type": "code",
   "execution_count": 45,
   "id": "bf1efaa9",
   "metadata": {},
   "outputs": [],
   "source": [
    "output_final5 =[]\n",
    "def output_list5(str):\n",
    "    for i in range(1,7):\n",
    "        data = pd.read_csv(f\"{i}.csv\")\n",
    "        data = data.dropna()\n",
    "        csv= data[data['new_col'].str.contains(str55)]\n",
    "        a=csv['new_col'].unique()\n",
    "        lis1=list(a)\n",
    "        #print(lis1)\n",
    "        lis2=(''.join(lis1))\n",
    "        #print(lis2)\n",
    "        \n",
    "        string = lis2\n",
    "        sub_str = '_ KRA Insurance Agency'\n",
    "        if(string.find(sub_str)==-1):\n",
    "            print('for  data{} value not found'.format(i))\n",
    "            output_final5.append('')\n",
    "            #output_lis2.append(output_lis1)\n",
    "            #return output_final\n",
    "        else:\n",
    "            print('for  data{} value found'.format(i))\n",
    "            def listtostr(lis1):\n",
    "                    str3 =\" \"\n",
    "                    for e in lis1:\n",
    "                        str3+=e\n",
    "                    return str3\n",
    "                \n",
    "            str5=listtostr(lis1)\n",
    "            print(str5) \n",
    "            def value_str(str):\n",
    "                x=str.split(':')\n",
    "                value=x[1][:23]\n",
    "                return value \n",
    "                        \n",
    "            op2=value_str(str5)\n",
    "            print(op2)\n",
    "            output_final5.append(op2)  \n",
    "            \n",
    "    return output_final5\n"
   ]
  },
  {
   "cell_type": "code",
   "execution_count": 46,
   "id": "dd6f9496",
   "metadata": {},
   "outputs": [
    {
     "name": "stdout",
     "output_type": "stream",
     "text": [
      "for  data1 value not found\n",
      "for  data2 value not found\n",
      "for  data3 value found\n",
      " PRODUCER NAME: _ KRA Insurance Agency PRODUCER NO: 61857\n",
      " _ KRA Insurance Agency\n",
      "for  data4 value not found\n",
      "for  data5 value not found\n",
      "for  data6 value not found\n"
     ]
    },
    {
     "data": {
      "text/plain": [
       "['', '', ' _ KRA Insurance Agency', '', '', '']"
      ]
     },
     "execution_count": 46,
     "metadata": {},
     "output_type": "execute_result"
    }
   ],
   "source": [
    "output_list5(str55)"
   ]
  },
  {
   "cell_type": "code",
   "execution_count": 51,
   "id": "a358c4f0",
   "metadata": {},
   "outputs": [],
   "source": [
    "#list of output_lists and columns \n",
    "out_lists = [output_final,output_final2,output_final3,output_final4,output_final5]\n",
    "col_names = ['Contents in Basement1','Real Property in Basement1','Rebuilding to Code1','CHUBB PERSONAL (PRIMARY) FLOOD OR CHUBB EXCESS FLOOD1','PRODUCER NAME1']\n"
   ]
  },
  {
   "cell_type": "code",
   "execution_count": 52,
   "id": "e9cda36e",
   "metadata": {},
   "outputs": [],
   "source": [
    "#inserting new columns into standard dataset\n",
    "for i in range(5):\n",
    "    stan_data[col_names[i]] = out_lists[i]"
   ]
  },
  {
   "cell_type": "code",
   "execution_count": 53,
   "id": "e5116a6a",
   "metadata": {},
   "outputs": [
    {
     "data": {
      "text/html": [
       "<div>\n",
       "<style scoped>\n",
       "    .dataframe tbody tr th:only-of-type {\n",
       "        vertical-align: middle;\n",
       "    }\n",
       "\n",
       "    .dataframe tbody tr th {\n",
       "        vertical-align: top;\n",
       "    }\n",
       "\n",
       "    .dataframe thead th {\n",
       "        text-align: right;\n",
       "    }\n",
       "</style>\n",
       "<table border=\"1\" class=\"dataframe\">\n",
       "  <thead>\n",
       "    <tr style=\"text-align: right;\">\n",
       "      <th></th>\n",
       "      <th>Agency Name</th>\n",
       "      <th>Legacy Chubb Agency Code</th>\n",
       "      <th>Agency Contact Info  Name</th>\n",
       "      <th>Phone</th>\n",
       "      <th>Email</th>\n",
       "      <th>Fax</th>\n",
       "      <th>Insured Name</th>\n",
       "      <th>Chubb Ltd Policy No</th>\n",
       "      <th>Street</th>\n",
       "      <th>City</th>\n",
       "      <th>...</th>\n",
       "      <th>Unnamed: 16380</th>\n",
       "      <th>Unnamed: 16381</th>\n",
       "      <th>Unnamed: 16382</th>\n",
       "      <th>Unnamed: 16383</th>\n",
       "      <th>CHUBB PERSONAL (PRIMARY) FLOOD OR CHUBB EXCESS FLOOD</th>\n",
       "      <th>Contents in Basement1</th>\n",
       "      <th>Real Property in Basement1</th>\n",
       "      <th>Rebuilding to Code1</th>\n",
       "      <th>CHUBB PERSONAL (PRIMARY) FLOOD OR CHUBB EXCESS FLOOD1</th>\n",
       "      <th>PRODUCER NAME1</th>\n",
       "    </tr>\n",
       "  </thead>\n",
       "  <tbody>\n",
       "    <tr>\n",
       "      <th>0</th>\n",
       "      <td>NaN</td>\n",
       "      <td>NaN</td>\n",
       "      <td>NaN</td>\n",
       "      <td>NaN</td>\n",
       "      <td>NaN</td>\n",
       "      <td>NaN</td>\n",
       "      <td>NaN</td>\n",
       "      <td>NaN</td>\n",
       "      <td>NaN</td>\n",
       "      <td>NaN</td>\n",
       "      <td>...</td>\n",
       "      <td>NaN</td>\n",
       "      <td>NaN</td>\n",
       "      <td>NaN</td>\n",
       "      <td>NaN</td>\n",
       "      <td></td>\n",
       "      <td></td>\n",
       "      <td></td>\n",
       "      <td></td>\n",
       "      <td></td>\n",
       "      <td></td>\n",
       "    </tr>\n",
       "    <tr>\n",
       "      <th>1</th>\n",
       "      <td>NaN</td>\n",
       "      <td>NaN</td>\n",
       "      <td>NaN</td>\n",
       "      <td>NaN</td>\n",
       "      <td>NaN</td>\n",
       "      <td>NaN</td>\n",
       "      <td>NaN</td>\n",
       "      <td>NaN</td>\n",
       "      <td>NaN</td>\n",
       "      <td>NaN</td>\n",
       "      <td>...</td>\n",
       "      <td>NaN</td>\n",
       "      <td>NaN</td>\n",
       "      <td>NaN</td>\n",
       "      <td>NaN</td>\n",
       "      <td></td>\n",
       "      <td>Maximum</td>\n",
       "      <td>Maximum</td>\n",
       "      <td>Maxium</td>\n",
       "      <td></td>\n",
       "      <td></td>\n",
       "    </tr>\n",
       "    <tr>\n",
       "      <th>2</th>\n",
       "      <td>NaN</td>\n",
       "      <td>NaN</td>\n",
       "      <td>NaN</td>\n",
       "      <td>NaN</td>\n",
       "      <td>NaN</td>\n",
       "      <td>NaN</td>\n",
       "      <td>NaN</td>\n",
       "      <td>NaN</td>\n",
       "      <td>NaN</td>\n",
       "      <td>NaN</td>\n",
       "      <td>...</td>\n",
       "      <td>NaN</td>\n",
       "      <td>NaN</td>\n",
       "      <td>NaN</td>\n",
       "      <td>NaN</td>\n",
       "      <td></td>\n",
       "      <td></td>\n",
       "      <td></td>\n",
       "      <td></td>\n",
       "      <td></td>\n",
       "      <td>_ KRA Insurance Agency</td>\n",
       "    </tr>\n",
       "    <tr>\n",
       "      <th>3</th>\n",
       "      <td>NaN</td>\n",
       "      <td>NaN</td>\n",
       "      <td>NaN</td>\n",
       "      <td>NaN</td>\n",
       "      <td>NaN</td>\n",
       "      <td>NaN</td>\n",
       "      <td>NaN</td>\n",
       "      <td>NaN</td>\n",
       "      <td>NaN</td>\n",
       "      <td>NaN</td>\n",
       "      <td>...</td>\n",
       "      <td>NaN</td>\n",
       "      <td>NaN</td>\n",
       "      <td>NaN</td>\n",
       "      <td>NaN</td>\n",
       "      <td></td>\n",
       "      <td></td>\n",
       "      <td></td>\n",
       "      <td></td>\n",
       "      <td></td>\n",
       "      <td></td>\n",
       "    </tr>\n",
       "    <tr>\n",
       "      <th>4</th>\n",
       "      <td>NaN</td>\n",
       "      <td>NaN</td>\n",
       "      <td>NaN</td>\n",
       "      <td>NaN</td>\n",
       "      <td>NaN</td>\n",
       "      <td>NaN</td>\n",
       "      <td>NaN</td>\n",
       "      <td>NaN</td>\n",
       "      <td>NaN</td>\n",
       "      <td>NaN</td>\n",
       "      <td>...</td>\n",
       "      <td>NaN</td>\n",
       "      <td>NaN</td>\n",
       "      <td>NaN</td>\n",
       "      <td>NaN</td>\n",
       "      <td></td>\n",
       "      <td></td>\n",
       "      <td></td>\n",
       "      <td></td>\n",
       "      <td></td>\n",
       "      <td></td>\n",
       "    </tr>\n",
       "  </tbody>\n",
       "</table>\n",
       "<p>5 rows × 16390 columns</p>\n",
       "</div>"
      ],
      "text/plain": [
       "  Agency Name Legacy Chubb Agency Code Agency Contact Info  Name Phone Email  \\\n",
       "0         NaN                      NaN                       NaN   NaN   NaN   \n",
       "1         NaN                      NaN                       NaN   NaN   NaN   \n",
       "2         NaN                      NaN                       NaN   NaN   NaN   \n",
       "3         NaN                      NaN                       NaN   NaN   NaN   \n",
       "4         NaN                      NaN                       NaN   NaN   NaN   \n",
       "\n",
       "   Fax Insured Name Chubb Ltd Policy No Street City  ... Unnamed: 16380  \\\n",
       "0  NaN          NaN                 NaN    NaN  NaN  ...            NaN   \n",
       "1  NaN          NaN                 NaN    NaN  NaN  ...            NaN   \n",
       "2  NaN          NaN                 NaN    NaN  NaN  ...            NaN   \n",
       "3  NaN          NaN                 NaN    NaN  NaN  ...            NaN   \n",
       "4  NaN          NaN                 NaN    NaN  NaN  ...            NaN   \n",
       "\n",
       "  Unnamed: 16381 Unnamed: 16382 Unnamed: 16383  \\\n",
       "0            NaN            NaN            NaN   \n",
       "1            NaN            NaN            NaN   \n",
       "2            NaN            NaN            NaN   \n",
       "3            NaN            NaN            NaN   \n",
       "4            NaN            NaN            NaN   \n",
       "\n",
       "  CHUBB PERSONAL (PRIMARY) FLOOD OR CHUBB EXCESS FLOOD Contents in Basement1  \\\n",
       "0                                                                              \n",
       "1                                                                    Maximum   \n",
       "2                                                                              \n",
       "3                                                                              \n",
       "4                                                                              \n",
       "\n",
       "  Real Property in Basement1 Rebuilding to Code1  \\\n",
       "0                                                  \n",
       "1                    Maximum              Maxium   \n",
       "2                                                  \n",
       "3                                                  \n",
       "4                                                  \n",
       "\n",
       "  CHUBB PERSONAL (PRIMARY) FLOOD OR CHUBB EXCESS FLOOD1  \\\n",
       "0                                                         \n",
       "1                                                         \n",
       "2                                                         \n",
       "3                                                         \n",
       "4                                                         \n",
       "\n",
       "            PRODUCER NAME1  \n",
       "0                           \n",
       "1                           \n",
       "2   _ KRA Insurance Agency  \n",
       "3                           \n",
       "4                           \n",
       "\n",
       "[5 rows x 16390 columns]"
      ]
     },
     "execution_count": 53,
     "metadata": {},
     "output_type": "execute_result"
    }
   ],
   "source": [
    "#printing top 5 records\n",
    "stan_data.head()"
   ]
  },
  {
   "cell_type": "code",
   "execution_count": 54,
   "id": "41d1ca18",
   "metadata": {},
   "outputs": [
    {
     "data": {
      "text/plain": [
       "(6, 16390)"
      ]
     },
     "execution_count": 54,
     "metadata": {},
     "output_type": "execute_result"
    }
   ],
   "source": [
    "#checking shape\n",
    "stan_data.shape"
   ]
  },
  {
   "cell_type": "code",
   "execution_count": 55,
   "id": "cb87a0a3",
   "metadata": {},
   "outputs": [],
   "source": [
    "#converting standard datafile  to csv\n",
    "stan_data.to_csv('updated_standard_template.csv',index=False)"
   ]
  },
  {
   "cell_type": "code",
   "execution_count": null,
   "id": "feec0b2d",
   "metadata": {},
   "outputs": [],
   "source": []
  }
 ],
 "metadata": {
  "kernelspec": {
   "display_name": "Python 3 (ipykernel)",
   "language": "python",
   "name": "python3"
  },
  "language_info": {
   "codemirror_mode": {
    "name": "ipython",
    "version": 3
   },
   "file_extension": ".py",
   "mimetype": "text/x-python",
   "name": "python",
   "nbconvert_exporter": "python",
   "pygments_lexer": "ipython3",
   "version": "3.9.7"
  }
 },
 "nbformat": 4,
 "nbformat_minor": 5
}
